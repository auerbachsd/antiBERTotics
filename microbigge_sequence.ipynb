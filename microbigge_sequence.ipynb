{
  "cells": [
    {
      "cell_type": "code",
      "execution_count": 15,
      "metadata": {
        "id": "Qm5CiiAur6gX"
      },
      "outputs": [],
      "source": [
        "#Import packages here\n",
        "import pandas as pd\n",
        "import requests\n",
        "from tqdm import tqdm\n",
        "from bs4 import BeautifulSoup\n",
        "import re\n",
        "import concurrent.futures"
      ]
    },
    {
      "cell_type": "code",
      "execution_count": 10,
      "metadata": {
        "id": "yEXTEr4iwE8E"
      },
      "outputs": [],
      "source": [
        "df = pd.read_csv('microbigge_ecoli.csv')"
      ]
    },
    {
      "cell_type": "code",
      "execution_count": 11,
      "metadata": {
        "colab": {
          "base_uri": "https://localhost:8080/"
        },
        "id": "bwWN8EgYyAf9",
        "outputId": "9e99052f-9872-4150-939b-64dd8c18a3b0"
      },
      "outputs": [
        {
          "data": {
            "text/plain": [
              "(23295, 18)"
            ]
          },
          "execution_count": 11,
          "metadata": {},
          "output_type": "execute_result"
        }
      ],
      "source": [
        "df.shape"
      ]
    },
    {
      "cell_type": "code",
      "execution_count": 12,
      "metadata": {
        "colab": {
          "base_uri": "https://localhost:8080/"
        },
        "id": "dFMHklUUyGdr",
        "outputId": "a3b97ba7-f2bf-4f25-fd3f-b058e14a2a5a"
      },
      "outputs": [
        {
          "data": {
            "text/plain": [
              "Type\n",
              "AMR          0.504958\n",
              "VIRULENCE    0.426830\n",
              "STRESS       0.068212\n",
              "Name: proportion, dtype: float64"
            ]
          },
          "execution_count": 12,
          "metadata": {},
          "output_type": "execute_result"
        }
      ],
      "source": [
        "df['Type'].value_counts(normalize=True)"
      ]
    },
    {
      "cell_type": "code",
      "execution_count": 16,
      "metadata": {
        "id": "0ybrewK9yh3P"
      },
      "outputs": [],
      "source": [
        "# Define a function to fetch the DNA sequence from the NCBI website, include messages for status updates and if an error arises\n",
        "def fetch_dna_sequence(contig, start, stop, retries=3, timeout=10):\n",
        "    url = f\"https://www.ncbi.nlm.nih.gov/nuccore/{contig}?from={start}&to={stop}\"\n",
        "    for _ in range(retries):\n",
        "        try:\n",
        "            response = requests.get(url, timeout=timeout)\n",
        "            response.raise_for_status()\n",
        "            return response.text\n",
        "        except requests.RequestException as e:\n",
        "            print(f\"Error fetching {url}: {e}\")\n",
        "    return None"
      ]
    },
    {
      "cell_type": "code",
      "execution_count": 6,
      "metadata": {
        "id": "6wzG682hy3JX"
      },
      "outputs": [],
      "source": [
        "# Define a function to extract the nucleotide sequence from the ORIGIN section\n",
        "def extract_origin_sequence(data):\n",
        "    if data:\n",
        "        lines = data.splitlines()\n",
        "        origin_started = False\n",
        "        sequence = []\n",
        "        for line in lines:\n",
        "            if line.startswith(\"ORIGIN\"):\n",
        "                origin_started = True\n",
        "            elif origin_started:\n",
        "                if line.startswith(\"//\"):\n",
        "                    break\n",
        "                sequence.append(''.join(filter(str.isalpha, line)))\n",
        "        return ''.join(sequence)\n",
        "    return \"\""
      ]
    },
    {
      "cell_type": "code",
      "execution_count": 7,
      "metadata": {
        "id": "krPAcCQgzctJ"
      },
      "outputs": [],
      "source": [
        "# Apply the functions to each row in the DataFrame and add a new column for the DNA sequence\n",
        "def get_dna_sequence(row):\n",
        "    data = fetch_dna_sequence(row['Contig'], row['Start'], row['Stop'])\n",
        "    sequence = extract_origin_sequence(data)\n",
        "    return sequence"
      ]
    },
    {
      "cell_type": "code",
      "execution_count": 14,
      "metadata": {
        "id": "foqye9p301i5"
      },
      "outputs": [],
      "source": [
        "def process_row(row):\n",
        "    return get_dna_sequence(row)"
      ]
    },
    {
      "cell_type": "code",
      "execution_count": 17,
      "metadata": {},
      "outputs": [
        {
          "name": "stderr",
          "output_type": "stream",
          "text": [
            "  8%|▊         | 1926/23295 [05:40<48:56,  7.28it/s]  "
          ]
        },
        {
          "name": "stdout",
          "output_type": "stream",
          "text": [
            "Error fetching https://www.ncbi.nlm.nih.gov/nuccore/AAVVQG010000001.1?from=202121&to=203542: HTTPSConnectionPool(host='www.ncbi.nlm.nih.gov', port=443): Read timed out. (read timeout=10)\n"
          ]
        },
        {
          "name": "stderr",
          "output_type": "stream",
          "text": [
            "  8%|▊         | 1926/23295 [09:04<48:56,  7.28it/s]"
          ]
        },
        {
          "name": "stdout",
          "output_type": "stream",
          "text": [
            "Error fetching https://www.ncbi.nlm.nih.gov/nuccore/AAVVQJ010000003.1?from=177596&to=180742: HTTPSConnectionPool(host='www.ncbi.nlm.nih.gov', port=443): Read timed out. (read timeout=10)\n",
            "Error fetching https://www.ncbi.nlm.nih.gov/nuccore/AAVVQC010000001.1?from=105933&to=107354: HTTPSConnectionPool(host='www.ncbi.nlm.nih.gov', port=443): Read timed out. (read timeout=10)\n",
            "Error fetching https://www.ncbi.nlm.nih.gov/nuccore/AAVVQF010000002.1?from=245139&to=246158: HTTPSConnectionPool(host='www.ncbi.nlm.nih.gov', port=443): Read timed out. (read timeout=10)\n",
            "Error fetching https://www.ncbi.nlm.nih.gov/nuccore/AAVVQE010000001.1?from=144181&to=145602: HTTPSConnectionPool(host='www.ncbi.nlm.nih.gov', port=443): Read timed out. (read timeout=10)\n",
            "Error fetching https://www.ncbi.nlm.nih.gov/nuccore/AAVVPZ010000001.1?from=46840&to=47373: HTTPSConnectionPool(host='www.ncbi.nlm.nih.gov', port=443): Read timed out. (read timeout=10)\n",
            "Error fetching https://www.ncbi.nlm.nih.gov/nuccore/AAVVQA010000001.1?from=46835&to=47368: HTTPSConnectionPool(host='www.ncbi.nlm.nih.gov', port=443): Read timed out. (read timeout=10)\n",
            "Error fetching https://www.ncbi.nlm.nih.gov/nuccore/AAVVPX010000001.1?from=202106&to=203527: HTTPSConnectionPool(host='www.ncbi.nlm.nih.gov', port=443): Read timed out. (read timeout=10)\n",
            "Error fetching https://www.ncbi.nlm.nih.gov/nuccore/AAVVPY010000001.1?from=144139&to=145560: HTTPSConnectionPool(host='www.ncbi.nlm.nih.gov', port=443): Read timed out. (read timeout=10)\n",
            "Error fetching https://www.ncbi.nlm.nih.gov/nuccore/AAVVQH010000001.1?from=49621&to=50154: HTTPSConnectionPool(host='www.ncbi.nlm.nih.gov', port=443): Read timed out.\n"
          ]
        },
        {
          "name": "stderr",
          "output_type": "stream",
          "text": [
            " 13%|█▎        | 3033/23295 [12:32<46:45,  7.22it/s]    "
          ]
        },
        {
          "name": "stdout",
          "output_type": "stream",
          "text": [
            "Error fetching https://www.ncbi.nlm.nih.gov/nuccore/NZ_JVFI01000002.1?from=41753&to=43645: HTTPSConnectionPool(host='www.ncbi.nlm.nih.gov', port=443): Max retries exceeded with url: /nuccore/NZ_JVFI01000002.1?from=41753&to=43645 (Caused by SSLError(SSLError(1, '[SSL: TLSV1_ALERT_DECODE_ERROR] tlsv1 alert decode error (_ssl.c:1122)')))\n"
          ]
        },
        {
          "name": "stderr",
          "output_type": "stream",
          "text": [
            " 25%|██▌       | 5889/23295 [20:49<1:39:35,  2.91it/s]"
          ]
        },
        {
          "name": "stdout",
          "output_type": "stream",
          "text": [
            "Error fetching https://www.ncbi.nlm.nih.gov/nuccore/AATDFU010000002.1?from=98314&to=99447: HTTPSConnectionPool(host='www.ncbi.nlm.nih.gov', port=443): Read timed out. (read timeout=10)\n",
            "Error fetching https://www.ncbi.nlm.nih.gov/nuccore/AATDFT010000003.1?from=235993&to=237012: HTTPSConnectionPool(host='www.ncbi.nlm.nih.gov', port=443): Read timed out. (read timeout=10)\n",
            "Error fetching https://www.ncbi.nlm.nih.gov/nuccore/AAYQRO010000001.1?from=147685&to=148338: HTTPSConnectionPool(host='www.ncbi.nlm.nih.gov', port=443): Read timed out. (read timeout=10)\n",
            "Error fetching https://www.ncbi.nlm.nih.gov/nuccore/AATDFX010000001.1?from=50442&to=50975: HTTPSConnectionPool(host='www.ncbi.nlm.nih.gov', port=443): Read timed out. (read timeout=10)\n",
            "Error fetching https://www.ncbi.nlm.nih.gov/nuccore/AATDFV010000015.1?from=30564&to=31697: HTTPSConnectionPool(host='www.ncbi.nlm.nih.gov', port=443): Read timed out. (read timeout=10)\n",
            "Error fetching https://www.ncbi.nlm.nih.gov/nuccore/AATDGA010000005.1?from=4044&to=4310: HTTPSConnectionPool(host='www.ncbi.nlm.nih.gov', port=443): Read timed out. (read timeout=10)\n",
            "Error fetching https://www.ncbi.nlm.nih.gov/nuccore/AATDFP010000002.1?from=75918&to=77150: HTTPSConnectionPool(host='www.ncbi.nlm.nih.gov', port=443): Read timed out. (read timeout=10)\n",
            "Error fetching https://www.ncbi.nlm.nih.gov/nuccore/AATDGE010000001.1?from=98319&to=99452: HTTPSConnectionPool(host='www.ncbi.nlm.nih.gov', port=443): Read timed out.\n",
            "Error fetching https://www.ncbi.nlm.nih.gov/nuccore/AATDFR010000009.1?from=23271&to=24629: HTTPSConnectionPool(host='www.ncbi.nlm.nih.gov', port=443): Read timed out. (read timeout=10)\n",
            "Error fetching https://www.ncbi.nlm.nih.gov/nuccore/AATDFZ010000005.1?from=119805&to=120905: HTTPSConnectionPool(host='www.ncbi.nlm.nih.gov', port=443): Read timed out.\n"
          ]
        },
        {
          "name": "stderr",
          "output_type": "stream",
          "text": [
            " 40%|████      | 9358/23295 [59:14<39:27,  5.89it/s]    "
          ]
        },
        {
          "name": "stdout",
          "output_type": "stream",
          "text": [
            "Error fetching https://www.ncbi.nlm.nih.gov/nuccore/AATEPK010000001.1?from=22502&to=27067: HTTPSConnectionPool(host='www.ncbi.nlm.nih.gov', port=443): Read timed out. (read timeout=10)\n",
            "Error fetching https://www.ncbi.nlm.nih.gov/nuccore/AATEOS010000001.1?from=214798&to=219051: HTTPSConnectionPool(host='www.ncbi.nlm.nih.gov', port=443): Read timed out. (read timeout=10)\n",
            "Error fetching https://www.ncbi.nlm.nih.gov/nuccore/AATEOY010000001.1?from=150446&to=150712: HTTPSConnectionPool(host='www.ncbi.nlm.nih.gov', port=443): Read timed out. (read timeout=10)\n",
            "Error fetching https://www.ncbi.nlm.nih.gov/nuccore/AATEOX010000001.1?from=137365&to=138723: HTTPSConnectionPool(host='www.ncbi.nlm.nih.gov', port=443): Read timed out. (read timeout=10)\n",
            "Error fetching https://www.ncbi.nlm.nih.gov/nuccore/AATEPC010000006.1?from=70338&to=72050: HTTPSConnectionPool(host='www.ncbi.nlm.nih.gov', port=443): Read timed out. (read timeout=10)\n",
            "Error fetching https://www.ncbi.nlm.nih.gov/nuccore/AATEPE010000001.1?from=136382&to=140947: HTTPSConnectionPool(host='www.ncbi.nlm.nih.gov', port=443): Read timed out. (read timeout=10)\n",
            "Error fetching https://www.ncbi.nlm.nih.gov/nuccore/AATEOW010000009.1?from=28040&to=30667: HTTPSConnectionPool(host='www.ncbi.nlm.nih.gov', port=443): Read timed out. (read timeout=10)\n",
            "Error fetching https://www.ncbi.nlm.nih.gov/nuccore/AATEPB010000001.1?from=251722&to=252054: HTTPSConnectionPool(host='www.ncbi.nlm.nih.gov', port=443): Read timed out.\n"
          ]
        },
        {
          "name": "stderr",
          "output_type": "stream",
          "text": [
            " 50%|█████     | 11664/23295 [1:06:35<1:25:04,  2.28it/s]"
          ]
        },
        {
          "name": "stdout",
          "output_type": "stream",
          "text": [
            "Error fetching https://www.ncbi.nlm.nih.gov/nuccore/ABDCBI010000003.1?from=17609&to=18967: HTTPSConnectionPool(host='www.ncbi.nlm.nih.gov', port=443): Read timed out.\n"
          ]
        },
        {
          "name": "stderr",
          "output_type": "stream",
          "text": [
            " 54%|█████▍    | 12621/23295 [1:12:25<21:02,  8.46it/s]   "
          ]
        },
        {
          "name": "stdout",
          "output_type": "stream",
          "text": [
            "Error fetching https://www.ncbi.nlm.nih.gov/nuccore/AASUPS010000007.1?from=112317&to=115421: HTTPSConnectionPool(host='www.ncbi.nlm.nih.gov', port=443): Read timed out. (read timeout=10)\n",
            "Error fetching https://www.ncbi.nlm.nih.gov/nuccore/AASUPQ010000003.1?from=227&to=880: HTTPSConnectionPool(host='www.ncbi.nlm.nih.gov', port=443): Read timed out. (read timeout=10)\n",
            "Error fetching https://www.ncbi.nlm.nih.gov/nuccore/AASUPP010000001.1?from=256778&to=258136: HTTPSConnectionPool(host='www.ncbi.nlm.nih.gov', port=443): Read timed out. (read timeout=10)\n",
            "Error fetching https://www.ncbi.nlm.nih.gov/nuccore/AASUPR010000001.1?from=318429&to=319787: HTTPSConnectionPool(host='www.ncbi.nlm.nih.gov', port=443): Read timed out. (read timeout=10)\n",
            "Error fetching https://www.ncbi.nlm.nih.gov/nuccore/AASUPN010000004.1?from=154921&to=155493: HTTPSConnectionPool(host='www.ncbi.nlm.nih.gov', port=443): Read timed out. (read timeout=10)\n",
            "Error fetching https://www.ncbi.nlm.nih.gov/nuccore/AASUPK010000010.1?from=75&to=647: HTTPSConnectionPool(host='www.ncbi.nlm.nih.gov', port=443): Read timed out. (read timeout=10)\n",
            "Error fetching https://www.ncbi.nlm.nih.gov/nuccore/AASUPM010000001.1?from=156556&to=157914: HTTPSConnectionPool(host='www.ncbi.nlm.nih.gov', port=443): Read timed out. (read timeout=10)\n",
            "Error fetching https://www.ncbi.nlm.nih.gov/nuccore/AASUPU010000011.1?from=62903&to=63625: HTTPSConnectionPool(host='www.ncbi.nlm.nih.gov', port=443): Read timed out.\n",
            "Error fetching https://www.ncbi.nlm.nih.gov/nuccore/AASUPT010000007.1?from=96229&to=99333: HTTPSConnectionPool(host='www.ncbi.nlm.nih.gov', port=443): Read timed out.\n",
            "Error fetching https://www.ncbi.nlm.nih.gov/nuccore/AASUPJ010000001.1?from=173776&to=174909: HTTPSConnectionPool(host='www.ncbi.nlm.nih.gov', port=443): Read timed out. (read timeout=10)\n"
          ]
        },
        {
          "name": "stderr",
          "output_type": "stream",
          "text": [
            " 56%|█████▌    | 13006/23295 [1:13:39<47:59,  3.57it/s]   "
          ]
        },
        {
          "name": "stdout",
          "output_type": "stream",
          "text": [
            "Error fetching https://www.ncbi.nlm.nih.gov/nuccore/AASUBX010000001.1?from=158812&to=159144: 404 Client Error: Not Found for url: https://www.ncbi.nlm.nih.gov/nuccore/AASUBX010000001.1?from=158812&to=159144\n"
          ]
        },
        {
          "name": "stderr",
          "output_type": "stream",
          "text": [
            " 69%|██████▉   | 16078/23295 [1:23:05<19:38,  6.13it/s]  "
          ]
        },
        {
          "name": "stdout",
          "output_type": "stream",
          "text": [
            "Error fetching https://www.ncbi.nlm.nih.gov/nuccore/DABIJL010000002.1?from=270624&to=273251: HTTPSConnectionPool(host='www.ncbi.nlm.nih.gov', port=443): Read timed out. (read timeout=10)\n",
            "Error fetching https://www.ncbi.nlm.nih.gov/nuccore/DABIJJ010000001.1?from=37186&to=38988: HTTPSConnectionPool(host='www.ncbi.nlm.nih.gov', port=443): Read timed out. (read timeout=10)\n",
            "Error fetching https://www.ncbi.nlm.nih.gov/nuccore/DABIJG010000001.1?from=289279&to=290286: HTTPSConnectionPool(host='www.ncbi.nlm.nih.gov', port=443): Read timed out. (read timeout=10)\n",
            "Error fetching https://www.ncbi.nlm.nih.gov/nuccore/DABIJI010000001.1?from=131136&to=133763: HTTPSConnectionPool(host='www.ncbi.nlm.nih.gov', port=443): Read timed out. (read timeout=10)\n",
            "Error fetching https://www.ncbi.nlm.nih.gov/nuccore/DABIJF010000001.1?from=325501&to=330057: HTTPSConnectionPool(host='www.ncbi.nlm.nih.gov', port=443): Read timed out. (read timeout=10)\n",
            "Error fetching https://www.ncbi.nlm.nih.gov/nuccore/DABIJE010000001.1?from=495194&to=496996: HTTPSConnectionPool(host='www.ncbi.nlm.nih.gov', port=443): Read timed out. (read timeout=10)\n",
            "Error fetching https://www.ncbi.nlm.nih.gov/nuccore/DABIJH010000001.1?from=313856&to=314671: HTTPSConnectionPool(host='www.ncbi.nlm.nih.gov', port=443): Read timed out. (read timeout=10)\n",
            "Error fetching https://www.ncbi.nlm.nih.gov/nuccore/DABAKW010000003.1?from=4328&to=5560: HTTPSConnectionPool(host='www.ncbi.nlm.nih.gov', port=443): Read timed out. (read timeout=10)\n",
            "Error fetching https://www.ncbi.nlm.nih.gov/nuccore/DABIJD010000004.1?from=117726&to=120830: HTTPSConnectionPool(host='www.ncbi.nlm.nih.gov', port=443): Read timed out. (read timeout=10)\n",
            "Error fetching https://www.ncbi.nlm.nih.gov/nuccore/DABIJB010000006.1?from=1381&to=1494: HTTPSConnectionPool(host='www.ncbi.nlm.nih.gov', port=443): Read timed out. (read timeout=10)\n"
          ]
        },
        {
          "name": "stderr",
          "output_type": "stream",
          "text": [
            " 84%|████████▍ | 19676/23295 [1:39:10<07:53,  7.64it/s]   "
          ]
        },
        {
          "name": "stdout",
          "output_type": "stream",
          "text": [
            "Error fetching https://www.ncbi.nlm.nih.gov/nuccore/AASNKJ010000001.1?from=90976&to=92397: ('Connection aborted.', RemoteDisconnected('Remote end closed connection without response'))\n"
          ]
        },
        {
          "name": "stderr",
          "output_type": "stream",
          "text": [
            " 84%|████████▍ | 19677/23295 [1:39:40<6:04:37,  6.05s/it]"
          ]
        },
        {
          "name": "stdout",
          "output_type": "stream",
          "text": [
            "Error fetching https://www.ncbi.nlm.nih.gov/nuccore/AASNKK010000001.1?from=268757&to=270115: HTTPSConnectionPool(host='www.ncbi.nlm.nih.gov', port=443): Read timed out. (read timeout=10)\n"
          ]
        },
        {
          "name": "stderr",
          "output_type": "stream",
          "text": [
            " 84%|████████▍ | 19678/23295 [1:39:42<5:08:21,  5.12s/it]"
          ]
        },
        {
          "name": "stdout",
          "output_type": "stream",
          "text": [
            "Error fetching https://www.ncbi.nlm.nih.gov/nuccore/AASNKD010000002.1?from=90981&to=92402: HTTPSConnectionPool(host='www.ncbi.nlm.nih.gov', port=443): Read timed out. (read timeout=10)\n"
          ]
        },
        {
          "name": "stderr",
          "output_type": "stream",
          "text": [
            "100%|██████████| 23295/23295 [1:50:20<00:00,  3.52it/s]  \n"
          ]
        }
      ],
      "source": [
        "# Apply the function with parallel processing to expedite it\n",
        "with concurrent.futures.ThreadPoolExecutor(max_workers=10) as executor:\n",
        "    results = list(tqdm(executor.map(process_row, df.to_dict('records')), total=len(df)))\n",
        "\n",
        "#Add results of concurrent.futures work to the DataFrame\n",
        "df['full_sequence'] = results\n",
        "\n",
        "# Save the result as a new CSV file\n",
        "df.to_csv('fullseq_microbigge_ecoli.csv', index=False)\n",
        "\n"
      ]
    }
  ],
  "metadata": {
    "accelerator": "GPU",
    "colab": {
      "gpuType": "L4",
      "machine_shape": "hm",
      "provenance": []
    },
    "kernelspec": {
      "display_name": "Python 3",
      "name": "python3"
    },
    "language_info": {
      "codemirror_mode": {
        "name": "ipython",
        "version": 3
      },
      "file_extension": ".py",
      "mimetype": "text/x-python",
      "name": "python",
      "nbconvert_exporter": "python",
      "pygments_lexer": "ipython3",
      "version": "3.9.0"
    }
  },
  "nbformat": 4,
  "nbformat_minor": 0
}
