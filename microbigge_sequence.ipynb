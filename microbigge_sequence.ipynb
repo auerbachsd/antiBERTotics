{
  "cells": [
    {
      "cell_type": "code",
      "execution_count": 1,
      "metadata": {
        "id": "Qm5CiiAur6gX"
      },
      "outputs": [],
      "source": [
        "#Import packages here\n",
        "import pandas as pd\n",
        "import requests\n",
        "from bs4 import BeautifulSoup\n",
        "from tqdm import tqdm\n",
        "import concurrent.futures\n",
        "import re"
      ]
    },
    {
      "cell_type": "code",
      "execution_count": 2,
      "metadata": {
        "id": "yEXTEr4iwE8E"
      },
      "outputs": [],
      "source": [
        "df = pd.read_csv('microbigge_ecoli.csv')"
      ]
    },
    {
      "cell_type": "code",
      "execution_count": 3,
      "metadata": {
        "colab": {
          "base_uri": "https://localhost:8080/"
        },
        "id": "bwWN8EgYyAf9",
        "outputId": "9e99052f-9872-4150-939b-64dd8c18a3b0"
      },
      "outputs": [
        {
          "data": {
            "text/plain": [
              "(23295, 18)"
            ]
          },
          "execution_count": 3,
          "metadata": {},
          "output_type": "execute_result"
        }
      ],
      "source": [
        "df.shape"
      ]
    },
    {
      "cell_type": "code",
      "execution_count": 4,
      "metadata": {
        "colab": {
          "base_uri": "https://localhost:8080/"
        },
        "id": "dFMHklUUyGdr",
        "outputId": "a3b97ba7-f2bf-4f25-fd3f-b058e14a2a5a"
      },
      "outputs": [
        {
          "data": {
            "text/plain": [
              "Type\n",
              "AMR          0.504958\n",
              "VIRULENCE    0.426830\n",
              "STRESS       0.068212\n",
              "Name: proportion, dtype: float64"
            ]
          },
          "execution_count": 4,
          "metadata": {},
          "output_type": "execute_result"
        }
      ],
      "source": [
        "df['Type'].value_counts(normalize=True)"
      ]
    },
    {
      "cell_type": "code",
      "execution_count": 5,
      "metadata": {
        "id": "0ybrewK9yh3P"
      },
      "outputs": [],
      "source": [
        "# Define a function to fetch the DNA sequence from the NCBI website\n",
        "def fetch_dna_sequence(contig, start, stop, retries=3, timeout=10):\n",
        "    url = f\"https://www.ncbi.nlm.nih.gov/nuccore/{contig}?from={start}&to={stop}\"\n",
        "    for _ in range(retries):\n",
        "        try:\n",
        "            response = requests.get(url, timeout=timeout)\n",
        "            response.raise_for_status()\n",
        "            return response.text\n",
        "        except requests.RequestException as e:\n",
        "            print(f\"Error fetching {url}: {e}\")\n",
        "    return None"
      ]
    },
    {
      "cell_type": "code",
      "execution_count": 6,
      "metadata": {
        "id": "6wzG682hy3JX"
      },
      "outputs": [],
      "source": [
        "# Define a function to extract the nucleotide sequence from the ORIGIN section\n",
        "def extract_origin_sequence(data):\n",
        "    if data:\n",
        "        lines = data.splitlines()\n",
        "        origin_started = False\n",
        "        sequence = []\n",
        "        for line in lines:\n",
        "            if line.startswith(\"ORIGIN\"):\n",
        "                origin_started = True\n",
        "            elif origin_started:\n",
        "                if line.startswith(\"//\"):\n",
        "                    break\n",
        "                sequence.append(''.join(filter(str.isalpha, line)))\n",
        "        return ''.join(sequence)\n",
        "    return \"\""
      ]
    },
    {
      "cell_type": "code",
      "execution_count": 8,
      "metadata": {},
      "outputs": [],
      "source": [
        "# Process each row to get DNA sequence\n",
        "def get_dna_sequence(row):\n",
        "    print(f\"Processing row: Contig={row['Contig']}, Start={row['Start']}, Stop={row['Stop']}\")\n",
        "    data = fetch_dna_sequence(row['Contig'], row['Start'], row['Stop'])\n",
        "    if data:\n",
        "        sequence = extract_origin_sequence(data)\n",
        "        if sequence:\n",
        "            print(f\"Fetched sequence: {sequence[:50]}...\")  # Print the first 50 nucleotides of the sequence as a sanity check\n",
        "            return sequence\n",
        "        else:\n",
        "            print(f\"Failed to extract sequence for Contig={row['Contig']}, Start={row['Start']}, Stop={row['Stop']}\")\n",
        "            print(data)  # Print the full data for debugging\n",
        "    else:\n",
        "        print(f\"Failed to fetch data for Contig={row['Contig']}, Start={row['Start']}, Stop={row['Stop']}\")\n",
        "    return \"\""
      ]
    },
    {
      "cell_type": "code",
      "execution_count": 9,
      "metadata": {
        "id": "krPAcCQgzctJ"
      },
      "outputs": [],
      "source": [
        "#Iterate through each row and get the DNA sequence for each row\n",
        "def process_row(row):\n",
        "    return get_dna_sequence(row)"
      ]
    },
    {
      "cell_type": "code",
      "execution_count": null,
      "metadata": {
        "id": "foqye9p301i5"
      },
      "outputs": [],
      "source": [
        "# Apply the function with parallel processing to save time\n",
        "with concurrent.futures.ThreadPoolExecutor(max_workers=10) as executor:\n",
        "    results = list(tqdm(executor.map(process_row, df.to_dict('records')), total=len(df)))\n",
        "\n",
        "df['full_sequence'] = results\n",
        "\n",
        "# Save as a new CSV file\n",
        "df.to_csv('fullseq_microbigge_ecoli.csv', index=False)\n",
        "\n",
        "print(\"Processing complete.\")"
      ]
    }
  ],
  "metadata": {
    "accelerator": "GPU",
    "colab": {
      "gpuType": "L4",
      "machine_shape": "hm",
      "provenance": []
    },
    "kernelspec": {
      "display_name": "Python 3",
      "name": "python3"
    },
    "language_info": {
      "codemirror_mode": {
        "name": "ipython",
        "version": 3
      },
      "file_extension": ".py",
      "mimetype": "text/x-python",
      "name": "python",
      "nbconvert_exporter": "python",
      "pygments_lexer": "ipython3",
      "version": "3.9.0"
    }
  },
  "nbformat": 4,
  "nbformat_minor": 0
}
