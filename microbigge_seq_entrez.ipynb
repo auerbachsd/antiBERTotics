{
  "cells": [
    {
      "cell_type": "code",
      "execution_count": null,
      "metadata": {
        "colab": {
          "base_uri": "https://localhost:8080/"
        },
        "id": "Sd7O0IVCiesJ",
        "outputId": "58b1103b-d884-4470-e1cb-5bff875d21a9"
      },
      "outputs": [],
      "source": [
        "#Install these packages in Google Colab because they're not already installed\n",
        "#!pip install requests biopython\n"
      ]
    },
    {
      "cell_type": "code",
      "execution_count": null,
      "metadata": {
        "id": "N27RADikizAx"
      },
      "outputs": [],
      "source": [
        "#Import packages here\n",
        "import requests\n",
        "from tqdm import tqdm\n",
        "import pandas as pd\n",
        "import concurrent.futures\n",
        "from Bio import Entrez\n",
        "import re"
      ]
    },
    {
      "cell_type": "code",
      "execution_count": null,
      "metadata": {
        "id": "P_m5rjq4i3WA"
      },
      "outputs": [],
      "source": [
        "#Read dataset here (E. coli here as an example)\n",
        "df = pd.read_csv('/content/microbigge_ecoli.csv')"
      ]
    },
    {
      "cell_type": "code",
      "execution_count": null,
      "metadata": {
        "id": "geJDXghx0YUP"
      },
      "outputs": [],
      "source": [
        "# Set email for Entrez\n",
        "Entrez.email = \"write your email address here\""
      ]
    },
    {
      "cell_type": "code",
      "execution_count": null,
      "metadata": {
        "id": "RBEkTtUrjIFZ"
      },
      "outputs": [],
      "source": [
        "# Fetch DNA sequence from NCBI using Entrez\n",
        "def fetch_dna_sequence(entrez_id, start, stop):\n",
        "    try:\n",
        "        handle = Entrez.efetch(db=\"nuccore\", id=entrez_id, rettype=\"gb\", retmode=\"text\")\n",
        "        record = handle.read()\n",
        "        handle.close()\n",
        "\n",
        "        # Find the ORIGIN section and extract the sequence\n",
        "        origin_start = record.find(\"ORIGIN\")\n",
        "        if origin_start != -1:\n",
        "            origin_section = record[origin_start:]\n",
        "            origin_end = origin_section.find(\"//\")\n",
        "            if origin_end != -1:\n",
        "                sequence = origin_section[:origin_end].replace(\"ORIGIN\", \"\").replace(\" \", \"\").replace(\"\\n\", \"\").replace(\"\\r\", \"\")\n",
        "\n",
        "                # Keep only letters (A, T, C, G) (However, they must be in LOWER case in order for the code to work)\n",
        "                sequence = re.sub(r'[^atcg]', '', sequence)\n",
        "                return sequence\n",
        "        return \"\"\n",
        "    except Exception as e:\n",
        "        print(f\"Error fetching or parsing sequence for ID={entrez_id}: {e}\")\n",
        "        return \"\""
      ]
    },
    {
      "cell_type": "code",
      "execution_count": null,
      "metadata": {
        "id": "VIKLjT-xjQ4C"
      },
      "outputs": [],
      "source": [
        "# Process each row to get DNA sequence\n",
        "def get_dna_sequence(row):\n",
        "    print(f\"Processing row: Contig={row['Contig']}, Start={row['Start']}, Stop={row['Stop']}\")\n",
        "    sequence = fetch_dna_sequence(row['Contig'], row['Start'], row['Stop'])\n",
        "    if sequence:\n",
        "        print(f\"Fetched sequence: {sequence[:50]}...\")  # Print the first 50 characters of the sequence\n",
        "        return sequence\n",
        "    else:\n",
        "        print(f\"Error: Failed to fetch sequence for Contig={row['Contig']}, Start={row['Start']}, Stop={row['Stop']}\")\n",
        "        return \"\"\n"
      ]
    },
    {
      "cell_type": "code",
      "execution_count": null,
      "metadata": {
        "id": "564ryIYIjYAv"
      },
      "outputs": [],
      "source": [
        "#Iterate through each row and get the DNA sequence for each row\n",
        "def process_row(row):\n",
        "    return get_dna_sequence(row)"
      ]
    },
    {
      "cell_type": "code",
      "execution_count": null,
      "metadata": {
        "colab": {
          "base_uri": "https://localhost:8080/"
        },
        "id": "ORGmJj1DjbK8",
        "outputId": "64e0e1d4-2067-4505-a83a-9c3a19de0f4c"
      },
      "outputs": [],
      "source": [
        "# Apply the function with parallel processing to save time\n",
        "with concurrent.futures.ThreadPoolExecutor(max_workers=10) as executor:\n",
        "    results = list(tqdm(executor.map(process_row, df.to_dict('records')), total=len(df)))\n",
        "\n",
        "df['full_sequence'] = results\n",
        "\n",
        "# Save as a new CSV file\n",
        "df.to_csv('fullseq_microbigge_ecoli.csv', index=False)\n",
        "\n",
        "print(\"Processing complete.\")"
      ]
    }
  ],
  "metadata": {
    "accelerator": "GPU",
    "colab": {
      "gpuType": "T4",
      "machine_shape": "hm",
      "provenance": []
    },
    "kernelspec": {
      "display_name": "Python 3",
      "name": "python3"
    },
    "language_info": {
      "name": "python"
    }
  },
  "nbformat": 4,
  "nbformat_minor": 0
}
