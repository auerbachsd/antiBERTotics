{
 "cells": [
  {
   "cell_type": "code",
   "execution_count": 1,
   "id": "2aa69394-d74d-45c7-988f-474b6201a8ea",
   "metadata": {},
   "outputs": [],
   "source": [
    "import re\n",
    "\n",
    "import pandas as pd\n",
    "pd.set_option(\"mode.copy_on_write\", True)\n",
    "import numpy as np"
   ]
  },
  {
   "cell_type": "code",
   "execution_count": 2,
   "id": "e6799988-87db-4f3d-ab38-f4398a047e47",
   "metadata": {},
   "outputs": [],
   "source": [
    "df = pd.read_csv('chembl_antibiotics.csv', delimiter=';')"
   ]
  },
  {
   "cell_type": "code",
   "execution_count": 3,
   "id": "d7c5ebf1-9582-41b3-9d8c-b99253639496",
   "metadata": {},
   "outputs": [
    {
     "name": "stdout",
     "output_type": "stream",
     "text": [
      "<class 'pandas.core.frame.DataFrame'>\n",
      "RangeIndex: 226 entries, 0 to 225\n",
      "Data columns (total 36 columns):\n",
      " #   Column                           Non-Null Count  Dtype  \n",
      "---  ------                           --------------  -----  \n",
      " 0   ChEMBL ID                        226 non-null    object \n",
      " 1   Name                             226 non-null    object \n",
      " 2   Synonyms                         226 non-null    object \n",
      " 3   Type                             226 non-null    object \n",
      " 4   Max Phase                        226 non-null    float64\n",
      " 5   Molecular Weight                 222 non-null    float64\n",
      " 6   Targets                          206 non-null    float64\n",
      " 7   Bioactivities                    206 non-null    float64\n",
      " 8   AlogP                            210 non-null    float64\n",
      " 9   Polar Surface Area               210 non-null    float64\n",
      " 10  HBA                              210 non-null    float64\n",
      " 11  HBD                              210 non-null    float64\n",
      " 12  #RO5 Violations                  210 non-null    float64\n",
      " 13  #Rotatable Bonds                 210 non-null    float64\n",
      " 14  Passes Ro3                       210 non-null    object \n",
      " 15  QED Weighted                     210 non-null    float64\n",
      " 16  CX Acidic pKa                    199 non-null    float64\n",
      " 17  CX Basic pKa                     153 non-null    float64\n",
      " 18  CX LogP                          210 non-null    float64\n",
      " 19  CX LogD                          210 non-null    float64\n",
      " 20  Aromatic Rings                   210 non-null    float64\n",
      " 21  Structure Type                   226 non-null    object \n",
      " 22  Inorganic Flag                   226 non-null    int64  \n",
      " 23  Heavy Atoms                      210 non-null    float64\n",
      " 24  HBA (Lipinski)                   210 non-null    float64\n",
      " 25  HBD (Lipinski)                   210 non-null    float64\n",
      " 26  #RO5 Violations (Lipinski)       210 non-null    float64\n",
      " 27  Molecular Weight (Monoisotopic)  222 non-null    float64\n",
      " 28  Np Likeness Score                210 non-null    float64\n",
      " 29  Molecular Species                210 non-null    object \n",
      " 30  Molecular Formula                222 non-null    object \n",
      " 31  Smiles                           222 non-null    object \n",
      " 32  Inchi Key                        222 non-null    object \n",
      " 33  Inchi                            222 non-null    object \n",
      " 34  Withdrawn Flag                   226 non-null    bool   \n",
      " 35  Orphan                           226 non-null    int64  \n",
      "dtypes: bool(1), float64(22), int64(2), object(11)\n",
      "memory usage: 62.1+ KB\n"
     ]
    }
   ],
   "source": [
    "df.info()"
   ]
  },
  {
   "cell_type": "code",
   "execution_count": 4,
   "id": "2e11f920-5804-41d2-9d28-98d0a1ba11e2",
   "metadata": {},
   "outputs": [],
   "source": [
    "# Drop rows with null entries for features of interest\n",
    "df = df.dropna(subset=['Targets', 'Bioactivities'])\n",
    "\n",
    "# Drop features with many null entries\n",
    "df = df.drop(['CX Acidic pKa', 'CX Basic pKa'], axis=1)\n",
    "\n",
    "# Now drop remaining null, 'None', and 'Unknown' values\n",
    "df = df[df['Type'] != 'Unknown'].dropna()\n",
    "df = df.mask(df.eq('None')).dropna()\n",
    "\n",
    "# Drop columns with constant values across all remaining rows\n",
    "df = df.drop(['Type', 'Structure Type', 'Inorganic Flag', 'Orphan'], axis=1)\n",
    "\n",
    "# Drop alternative identifiers\n",
    "df = df.drop(['ChEMBL ID', 'Synonyms'], axis=1)"
   ]
  },
  {
   "cell_type": "code",
   "execution_count": 5,
   "id": "ea55859d-eac1-4d93-a9b9-328e90dac030",
   "metadata": {},
   "outputs": [],
   "source": [
    "# Parse chemical compound and determine the number of a given constituent element\n",
    "def count_element(formula, element):\n",
    "    parsed_formula = re.findall(element + '[0-9]?[0-9]?[0-9]?',formula)\n",
    "    if len(parsed_formula) == 0:\n",
    "        return 0\n",
    "    element_count = parsed_formula[0][len(element):]\n",
    "    if len(element_count) == 0:\n",
    "        return 1\n",
    "    else:\n",
    "        return int(element_count)"
   ]
  },
  {
   "cell_type": "code",
   "execution_count": 6,
   "id": "165835a5-cea7-424e-8685-18c0f53f3129",
   "metadata": {},
   "outputs": [],
   "source": [
    "# Create columns to count constituent elements\n",
    "all_atomic_constituents = {}\n",
    "for i in range(len(df)):\n",
    "    formula = df.iloc[i]['Molecular Formula']\n",
    "    formula_parsed = re.findall('[A-Z][a-z]?', formula)\n",
    "    for element in formula_parsed:\n",
    "        all_atomic_constituents[element] = True\n",
    "all_atomic_constituents = all_atomic_constituents.keys()\n",
    "\n",
    "for i in df.index:\n",
    "    formula = df.loc[i, 'Molecular Formula']\n",
    "    for element in all_atomic_constituents:\n",
    "        df.loc[i, element] = count_element(formula, element)"
   ]
  },
  {
   "cell_type": "code",
   "execution_count": 7,
   "id": "4fd58ee7-bfe0-4350-b910-d65341f1ae94",
   "metadata": {},
   "outputs": [],
   "source": [
    "# Monoisotopic molecular weight is now linearly dependent with the elemental counts constructed above\n",
    "df = df.drop(['Molecular Weight (Monoisotopic)'], axis=1)"
   ]
  },
  {
   "cell_type": "code",
   "execution_count": 8,
   "id": "3a0900db-a076-4aab-97e2-cd544bc2a1ee",
   "metadata": {},
   "outputs": [],
   "source": [
    "# Additional feature engineering\n",
    "df['Log Targets'] = np.log10(df['Targets'])\n",
    "df['Log Bioactivities'] = np.log10(df['Bioactivities'])"
   ]
  },
  {
   "cell_type": "code",
   "execution_count": 9,
   "id": "00583494-8a2f-429a-9f26-eda73c78f56d",
   "metadata": {},
   "outputs": [],
   "source": [
    "df.to_csv('chembl_antibiotics_cleaned.csv', index=False)"
   ]
  },
  {
   "cell_type": "code",
   "execution_count": null,
   "id": "a52c6d67-27be-4dbb-a83e-a549f29a24e6",
   "metadata": {},
   "outputs": [],
   "source": []
  }
 ],
 "metadata": {
  "kernelspec": {
   "display_name": "Python 3 (ipykernel)",
   "language": "python",
   "name": "python3"
  },
  "language_info": {
   "codemirror_mode": {
    "name": "ipython",
    "version": 3
   },
   "file_extension": ".py",
   "mimetype": "text/x-python",
   "name": "python",
   "nbconvert_exporter": "python",
   "pygments_lexer": "ipython3",
   "version": "3.11.9"
  }
 },
 "nbformat": 4,
 "nbformat_minor": 5
}
