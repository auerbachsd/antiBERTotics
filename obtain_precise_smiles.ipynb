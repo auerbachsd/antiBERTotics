{
  "cells": [
    {
      "cell_type": "code",
      "execution_count": 2,
      "metadata": {
        "id": "cWEmluPbnRR1"
      },
      "outputs": [],
      "source": [
        "#Import packages here (if you're doing this on Google Colab, these packages are pre-installed there)\n",
        "import pandas as pd\n",
        "import requests\n",
        "from tqdm.notebook import tqdm"
      ]
    },
    {
      "cell_type": "code",
      "execution_count": 5,
      "metadata": {
        "id": "OCGMOp0mMaEQ"
      },
      "outputs": [],
      "source": [
        "df = pd.read_csv('microbigge_ecoli.csv')"
      ]
    },
    {
      "cell_type": "code",
      "execution_count": 20,
      "metadata": {
        "id": "NT-kazATRx-U"
      },
      "outputs": [],
      "source": [
        "def get_smiles_from_pubchem(compound_name):\n",
        "    # Handle potential float values\n",
        "    if isinstance(compound_name, str):\n",
        "        compound_name = compound_name.lower()\n",
        "    else:\n",
        "        compound_name = str(compound_name).lower()  # Convert to string before lowercasing\n",
        "\n",
        "    url = f\"https://pubchem.ncbi.nlm.nih.gov/rest/pug/compound/name/{compound_name}/property/CanonicalSMILES/JSON\"\n",
        "    response = requests.get(url)\n",
        "    if response.status_code == 200:\n",
        "        data = response.json()\n",
        "        if 'PropertyTable' in data and 'Properties' in data['PropertyTable']:\n",
        "            return data['PropertyTable']['Properties'][0]['CanonicalSMILES']\n",
        "    return None\n",
        "\n",
        "\n"
      ]
    },
    {
      "cell_type": "code",
      "execution_count": null,
      "metadata": {
        "colab": {
          "base_uri": "https://localhost:8080/"
        },
        "id": "R6CMzLsxR_xj",
        "outputId": "a9384041-d905-4987-a5cc-35c3712ac93f"
      },
      "outputs": [],
      "source": [
        "\n",
        "# Create a new column for SMILES\n",
        "df['SMILES'] = df['Class'].apply(get_smiles_from_pubchem)\n",
        "\n",
        "# Create a progress bar to keep track when doing this for a lot of data\n",
        "tqdm.pandas()\n",
        "df['SMILES'] = df['Class'].progress_apply(get_smiles_from_pubchem)\n",
        "\n",
        "# Save the updated dataframe to a new CSV file\n",
        "df.to_csv('updated_ecoli_data.csv', index=False)\n",
        "\n",
        "print(\"SMILES data added and CSV file updated successfully.\")"
      ]
    }
  ],
  "metadata": {
    "colab": {
      "machine_shape": "hm",
      "provenance": []
    },
    "kernelspec": {
      "display_name": "Python 3",
      "name": "python3"
    },
    "language_info": {
      "name": "python"
    }
  },
  "nbformat": 4,
  "nbformat_minor": 0
}
